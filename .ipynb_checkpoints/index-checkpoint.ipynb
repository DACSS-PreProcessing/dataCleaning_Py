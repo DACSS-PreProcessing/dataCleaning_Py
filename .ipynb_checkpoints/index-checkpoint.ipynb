{
 "cells": [
  {
   "cell_type": "markdown",
   "metadata": {},
   "source": [
    "<center><img src=\"https://github.com/DACSS-PreProcessing/Week_1_main/blob/main/pics/LogoSimple.png?raw=true\" width=\"700\"></center>\n",
    "\n",
    "# Data Cleaning in Python"
   ]
  },
  {
   "cell_type": "markdown",
   "metadata": {},
   "source": [
    "<a id='home'></a>\n",
    "\n",
    "In the session we will:\n",
    "\n",
    "1. Collect data as a dataframe\n",
    "\n",
    "2. Clean data:\n",
    "    * Fix column names\n",
    "    * Fix data contents"
   ]
  },
  {
   "cell_type": "markdown",
   "metadata": {},
   "source": [
    "## 1. Collect data tables\n",
    "\n",
    "\n",
    "### Read a File\n",
    "\n",
    "I have the data on the **Human Development Index** in a  folder in a GitHub repo, which I downloaded from this [link](https://hdr.undp.org/data-center/documentation-and-downloads) (_Table 1_)."
   ]
  },
  {
   "cell_type": "code",
   "execution_count": null,
   "metadata": {},
   "outputs": [],
   "source": [
    "# Location of data file\n",
    "linkFile=\"https://github.com/DACSS-PreProcessing/dataCleaning_Py/raw/main/data/HDI_Table.xlsx\""
   ]
  },
  {
   "cell_type": "markdown",
   "metadata": {},
   "source": [
    "Reading in a table from a file using pandas, since it is an Excel file, I need that the package **openpyxl** is previously installed:"
   ]
  },
  {
   "cell_type": "code",
   "execution_count": null,
   "metadata": {},
   "outputs": [],
   "source": [
    "# available in my computer?\n",
    "!pip show openpyxl"
   ]
  },
  {
   "cell_type": "markdown",
   "metadata": {},
   "source": [
    "If not available, please go to Anaconda and install it. Once installed, or if available, continue:"
   ]
  },
  {
   "cell_type": "code",
   "execution_count": null,
   "metadata": {},
   "outputs": [],
   "source": [
    "import pandas as pd\n",
    "\n",
    "hdiFile=pd.read_excel(linkFile)"
   ]
  },
  {
   "cell_type": "markdown",
   "metadata": {},
   "source": [
    "Take a look:"
   ]
  },
  {
   "cell_type": "code",
   "execution_count": null,
   "metadata": {},
   "outputs": [],
   "source": [
    "hdiFile"
   ]
  },
  {
   "cell_type": "markdown",
   "metadata": {},
   "source": [
    "## 2. Cleaning Process\n",
    "\n",
    "\n",
    "### Fix column names"
   ]
  },
  {
   "cell_type": "markdown",
   "metadata": {},
   "source": [
    "\n",
    "#### Recover row of column names\n",
    "\n",
    "Notice that we do not have the right column names. So we need to save them before we go on:"
   ]
  },
  {
   "cell_type": "code",
   "execution_count": null,
   "metadata": {},
   "outputs": [],
   "source": [
    "hdiFile.iloc[[3,4],:]"
   ]
  },
  {
   "cell_type": "markdown",
   "metadata": {},
   "source": [
    "As you see, the column names are in different positions:"
   ]
  },
  {
   "cell_type": "code",
   "execution_count": null,
   "metadata": {},
   "outputs": [],
   "source": [
    "# here\n",
    "hdiFile.iloc[3,2:]"
   ]
  },
  {
   "cell_type": "code",
   "execution_count": null,
   "metadata": {},
   "outputs": [],
   "source": [
    "# and here\n",
    "hdiFile.iloc[4,:2]"
   ]
  },
  {
   "cell_type": "markdown",
   "metadata": {},
   "source": [
    "It is easier if we have lists, so we can concatenate:"
   ]
  },
  {
   "cell_type": "code",
   "execution_count": null,
   "metadata": {},
   "outputs": [],
   "source": [
    "# save column names turned to lists\n",
    "\n",
    "RealHeaders=hdiFile.iloc[4,:2].to_list()+hdiFile.iloc[3,2:].to_list()\n",
    "\n",
    "# these are:\n",
    "RealHeaders"
   ]
  },
  {
   "cell_type": "markdown",
   "metadata": {},
   "source": [
    "Let's put the rown in the right place:"
   ]
  },
  {
   "cell_type": "code",
   "execution_count": null,
   "metadata": {},
   "outputs": [],
   "source": [
    "# rename all the columns\n",
    "hdiFile.columns=RealHeaders\n",
    "\n",
    "# newDF\n",
    "better_1=hdiFile.copy()\n",
    "\n",
    "# see head\n",
    "better_1.head()"
   ]
  },
  {
   "cell_type": "markdown",
   "metadata": {},
   "source": [
    "#### Subset to drop unneeded columns\n",
    "\n",
    "\n",
    "Notice the repeated column names (HDI rank) and _NaN_. Notice also that we do not need the last three columns. Let's solve that:"
   ]
  },
  {
   "cell_type": "code",
   "execution_count": null,
   "metadata": {},
   "outputs": [],
   "source": [
    "# without the last 4 columns\n",
    "better_1.iloc[:,:-4]"
   ]
  },
  {
   "cell_type": "markdown",
   "metadata": {},
   "source": [
    "We use the previous result to rewrite the original:"
   ]
  },
  {
   "cell_type": "code",
   "execution_count": null,
   "metadata": {},
   "outputs": [],
   "source": [
    "# without the last four\n",
    "better_2=better_1.iloc[:,:-4]"
   ]
  },
  {
   "cell_type": "markdown",
   "metadata": {},
   "source": [
    "We still have column names with missing values:"
   ]
  },
  {
   "cell_type": "code",
   "execution_count": null,
   "metadata": {},
   "outputs": [],
   "source": [
    "better_2.columns"
   ]
  },
  {
   "cell_type": "markdown",
   "metadata": {},
   "source": [
    "...let's get rid of those:"
   ]
  },
  {
   "cell_type": "code",
   "execution_count": null,
   "metadata": {},
   "outputs": [],
   "source": [
    "# columns names without missings values\n",
    "better_2.columns.dropna()"
   ]
  },
  {
   "cell_type": "code",
   "execution_count": null,
   "metadata": {},
   "outputs": [],
   "source": [
    "# make the change!\n",
    "\n",
    "BetterHeaders=better_2.columns.dropna()\n",
    "#result\n",
    "BetterHeaders"
   ]
  },
  {
   "cell_type": "code",
   "execution_count": null,
   "metadata": {},
   "outputs": [],
   "source": [
    "#subsetting again to keep the good headers\n",
    "\n",
    "better_2=better_2.loc[:,BetterHeaders]\n",
    "\n",
    "#see\n",
    "better_2.head(10)"
   ]
  },
  {
   "cell_type": "markdown",
   "metadata": {},
   "source": [
    "It is time to offer a better set of column names."
   ]
  },
  {
   "cell_type": "markdown",
   "metadata": {},
   "source": [
    "#### Clean column names\n",
    "\n",
    "The current situation:"
   ]
  },
  {
   "cell_type": "code",
   "execution_count": null,
   "metadata": {},
   "outputs": [],
   "source": [
    "better_3=better_2.copy()\n",
    "better_3.columns.to_list() # always use to_list()"
   ]
  },
  {
   "cell_type": "markdown",
   "metadata": {},
   "source": [
    "Notice above that the columns:\n",
    "* Have acronyms in parenthesis.\n",
    "* Have spaces between words.\n",
    "\n",
    "**Option 1**: Cleaner column names without _blank spaces_, underscores instead of _blank spaces_."
   ]
  },
  {
   "cell_type": "code",
   "execution_count": null,
   "metadata": {},
   "outputs": [],
   "source": [
    "# bye anything between parentheses\n",
    "pattern1='\\(.+\\)'\n",
    "better_3.columns.str.replace(pattern1,repl=\"\", regex=True)"
   ]
  },
  {
   "cell_type": "code",
   "execution_count": null,
   "metadata": {},
   "outputs": [],
   "source": [
    "# bye anything between parentheses, bye leading-trailing spaces\n",
    "better_3.columns.str.replace(pattern1,repl=\"\", regex=True).str.strip()"
   ]
  },
  {
   "cell_type": "code",
   "execution_count": null,
   "metadata": {},
   "outputs": [],
   "source": [
    "# bye anything between parentheses, bye leading-trailing spaces, title case\n",
    "better_3.columns.str.replace(pattern1,repl=\"\", regex=True).str.strip().str.title()"
   ]
  },
  {
   "cell_type": "code",
   "execution_count": null,
   "metadata": {},
   "outputs": [],
   "source": [
    "# bye anything between parentheses, bye leading-trailing spaces, title case, spaces replaced\n",
    "pattern2='\\s+'\n",
    "better_3.columns.str.replace(pattern1,repl=\"\", regex=True).str.strip().str.title().\\\n",
    "                                                           str.replace(pattern2,repl='_',regex=True)"
   ]
  },
  {
   "cell_type": "markdown",
   "metadata": {},
   "source": [
    "**Option 2**: Shorthening using Camel case\n",
    "\n",
    "This requires a good data dictionary in your README!"
   ]
  },
  {
   "cell_type": "code",
   "execution_count": null,
   "metadata": {},
   "outputs": [],
   "source": [
    "# one step before we had...\n",
    "\n",
    "newNames=better_3.columns.str.replace(pattern1,repl=\"\", regex=True).str.strip().str.title()\n",
    "newNames"
   ]
  },
  {
   "cell_type": "code",
   "execution_count": null,
   "metadata": {},
   "outputs": [],
   "source": [
    "names_camel=newNames.str.replace(\" \",'',regex=False)\n",
    "names_camel"
   ]
  },
  {
   "cell_type": "markdown",
   "metadata": {},
   "source": [
    "**Option 3**: Shorthening using Acronyms\n",
    "\n",
    "We will do this only for the _variables_:"
   ]
  },
  {
   "cell_type": "code",
   "execution_count": null,
   "metadata": {},
   "outputs": [],
   "source": [
    "# each column names splitted:\n",
    "[name.split() for name in newNames[2::]]"
   ]
  },
  {
   "cell_type": "code",
   "execution_count": null,
   "metadata": {},
   "outputs": [],
   "source": [
    "# first letter of each word\n",
    "[[word[0] for word in name.split()] for name in newNames[2::]]"
   ]
  },
  {
   "cell_type": "code",
   "execution_count": null,
   "metadata": {},
   "outputs": [],
   "source": [
    "# concatenating\n",
    "acronyms=[''.join([word[0] for word in name.split()]) for name in newNames[2::]]\n",
    "acronyms"
   ]
  },
  {
   "cell_type": "code",
   "execution_count": null,
   "metadata": {},
   "outputs": [],
   "source": [
    "alreadyShorthened=names_camel[:2].to_list() # the previous 2 columns\n",
    "better_3.columns= alreadyShorthened+ acronyms\n",
    "better_3.columns"
   ]
  },
  {
   "cell_type": "markdown",
   "metadata": {},
   "source": [
    "Let's keep the last alternative:"
   ]
  },
  {
   "cell_type": "code",
   "execution_count": null,
   "metadata": {},
   "outputs": [],
   "source": [
    "better_3.head(10)"
   ]
  },
  {
   "cell_type": "markdown",
   "metadata": {},
   "source": [
    "\n",
    "______\n",
    "\n",
    "\n",
    "### Fix Data contents\n",
    "\n",
    "After becoming familar with the data, we focus on data contents.\n",
    "\n",
    "#### Cleaning based on cells with missing values:\n",
    "\n",
    "See all rows with at least one missing value:"
   ]
  },
  {
   "cell_type": "code",
   "execution_count": null,
   "metadata": {},
   "outputs": [],
   "source": [
    "# next DF\n",
    "better_4=better_3.copy()\n",
    "better_4[better_4.isna().any(axis=1)]"
   ]
  },
  {
   "cell_type": "markdown",
   "metadata": {},
   "source": [
    "The exploration let us find that we have 84 rows with at least one missing value.\n",
    "\n",
    "First decision, drop rows where all variable values are missing:"
   ]
  },
  {
   "cell_type": "code",
   "execution_count": null,
   "metadata": {},
   "outputs": [],
   "source": [
    "# will keep rows where there is at least one value in the variable columns\n",
    "\n",
    "better_4=better_4[~better_4.iloc[:,2:].isna().all(axis=1)]\n",
    "\n",
    "# filtered!\n",
    "better_4"
   ]
  },
  {
   "cell_type": "markdown",
   "metadata": {},
   "source": [
    "Second decision: drop the rows with where 'Country', the ID, is missing."
   ]
  },
  {
   "cell_type": "code",
   "execution_count": null,
   "metadata": {},
   "outputs": [],
   "source": [
    "better_4=better_4[~better_4.loc[:,'Country'].isna()]\n",
    "better_4"
   ]
  },
  {
   "cell_type": "markdown",
   "metadata": {},
   "source": [
    "Let's explore why some rows have no ranking:"
   ]
  },
  {
   "cell_type": "code",
   "execution_count": null,
   "metadata": {},
   "outputs": [],
   "source": [
    "better_4[better_4.loc[:,'HdiRank'].isna()]"
   ]
  },
  {
   "cell_type": "markdown",
   "metadata": {},
   "source": [
    "Decision three: Keep rows with some important values:"
   ]
  },
  {
   "cell_type": "code",
   "execution_count": null,
   "metadata": {},
   "outputs": [],
   "source": [
    "# detecting non-numeric cells in HDI\n",
    "better_4[pd.to_numeric(better_4.HDI,'coerce').isna()]"
   ]
  },
  {
   "cell_type": "code",
   "execution_count": null,
   "metadata": {},
   "outputs": [],
   "source": [
    "# then\n",
    "better_4=better_4[~pd.to_numeric(better_4.HDI,'coerce').isna()]\n",
    "better_4"
   ]
  },
  {
   "cell_type": "code",
   "execution_count": null,
   "metadata": {},
   "outputs": [],
   "source": [
    "# keep good ranking values\n",
    "better_4=better_4[~better_4.loc[:,'HdiRank'].isna()]\n",
    "better_4"
   ]
  },
  {
   "cell_type": "markdown",
   "metadata": {},
   "source": [
    "#### Cleaning based on cell contents"
   ]
  },
  {
   "cell_type": "markdown",
   "metadata": {},
   "source": [
    "It seems pretty clean. However, let's play safe and get rid of trailing or leading spaces :"
   ]
  },
  {
   "cell_type": "code",
   "execution_count": null,
   "metadata": {},
   "outputs": [],
   "source": [
    "# no trailing nor leading spaces\n",
    "better_4.loc[:,'Country']=better_4.Country.str.strip()"
   ]
  },
  {
   "cell_type": "markdown",
   "metadata": {},
   "source": [
    "Are the numeric values read as strings?"
   ]
  },
  {
   "cell_type": "code",
   "execution_count": null,
   "metadata": {},
   "outputs": [],
   "source": [
    "better_4.iloc[0,:].to_list()"
   ]
  },
  {
   "cell_type": "markdown",
   "metadata": {},
   "source": [
    "If this does not work, the numbers are not clean:"
   ]
  },
  {
   "cell_type": "code",
   "execution_count": null,
   "metadata": {},
   "outputs": [],
   "source": [
    "better_4.iloc[:,2:].sum()"
   ]
  },
  {
   "cell_type": "markdown",
   "metadata": {},
   "source": [
    "Finally, let's reset the row indexes:"
   ]
  },
  {
   "cell_type": "code",
   "execution_count": null,
   "metadata": {},
   "outputs": [],
   "source": [
    "better_4.reset_index(drop=True, inplace=True)\n",
    "better_4"
   ]
  },
  {
   "cell_type": "code",
   "execution_count": null,
   "metadata": {},
   "outputs": [],
   "source": []
  }
 ],
 "metadata": {
  "hide_input": false,
  "kernelspec": {
   "display_name": "Python 3 (ipykernel)",
   "language": "python",
   "name": "python3"
  },
  "language_info": {
   "codemirror_mode": {
    "name": "ipython",
    "version": 3
   },
   "file_extension": ".py",
   "mimetype": "text/x-python",
   "name": "python",
   "nbconvert_exporter": "python",
   "pygments_lexer": "ipython3",
   "version": "3.11.9"
  }
 },
 "nbformat": 4,
 "nbformat_minor": 4
}
